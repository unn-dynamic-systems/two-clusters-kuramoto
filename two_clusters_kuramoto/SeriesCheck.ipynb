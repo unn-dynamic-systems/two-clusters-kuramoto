{
 "cells": [
  {
   "cell_type": "code",
   "execution_count": 1,
   "id": "d7d99d40",
   "metadata": {},
   "outputs": [],
   "source": [
    "import sympy as sp"
   ]
  },
  {
   "cell_type": "markdown",
   "id": "2ae15cf8",
   "metadata": {},
   "source": [
    "## Helper functions"
   ]
  },
  {
   "cell_type": "code",
   "execution_count": 2,
   "id": "8a192780",
   "metadata": {},
   "outputs": [],
   "source": [
    "def epsilon_series(s, n):\n",
    "    e = sp.symbols('epsilon')\n",
    "    return sum((e**i * sp.symbols(f'{s}{i}') for i in range(n + 1)))\n",
    "\n",
    "def print_dict(d):\n",
    "    for k, v in d.items():\n",
    "        print(f'{k}: {v}')"
   ]
  },
  {
   "cell_type": "code",
   "execution_count": 3,
   "id": "cdf52af6",
   "metadata": {},
   "outputs": [],
   "source": [
    "N, K, a, tau, eps, omega, x = \\\n",
    "sp.symbols('N  K alpha tau epsilon omega  x')"
   ]
  },
  {
   "cell_type": "markdown",
   "id": "336f0350",
   "metadata": {},
   "source": [
    "### Series length "
   ]
  },
  {
   "cell_type": "code",
   "execution_count": 4,
   "id": "c9560499",
   "metadata": {},
   "outputs": [],
   "source": [
    "n = 2"
   ]
  },
  {
   "cell_type": "markdown",
   "id": "6c2d39c3",
   "metadata": {},
   "source": [
    "### Series "
   ]
  },
  {
   "cell_type": "code",
   "execution_count": 5,
   "id": "694eaeb1",
   "metadata": {},
   "outputs": [
    {
     "data": {
      "text/latex": [
       "$\\displaystyle x = \\epsilon^{2} x_{2} + \\epsilon x_{1} + \\tau + x_{0}$"
      ],
      "text/plain": [
       "Eq(x, epsilon**2*x2 + epsilon*x1 + tau + x0)"
      ]
     },
     "execution_count": 5,
     "metadata": {},
     "output_type": "execute_result"
    }
   ],
   "source": [
    "xs = sp.symbols('tau') + epsilon_series(\"x\", n)\n",
    "sp.Eq(x, xs)"
   ]
  },
  {
   "cell_type": "code",
   "execution_count": 6,
   "id": "8cb00863",
   "metadata": {},
   "outputs": [
    {
     "data": {
      "text/latex": [
       "$\\displaystyle \\omega = \\epsilon^{2} \\omega_{2} + \\epsilon \\omega_{1} + \\omega_{0}$"
      ],
      "text/plain": [
       "Eq(omega, epsilon**2*omega2 + epsilon*omega1 + omega0)"
      ]
     },
     "execution_count": 6,
     "metadata": {},
     "output_type": "execute_result"
    }
   ],
   "source": [
    "ws = epsilon_series(\"omega\", n)\n",
    "sp.Eq(omega, ws)"
   ]
  },
  {
   "cell_type": "markdown",
   "id": "f310b5e8",
   "metadata": {},
   "source": [
    "### Main differential equation "
   ]
  },
  {
   "cell_type": "code",
   "execution_count": 7,
   "id": "4c9c0812",
   "metadata": {},
   "outputs": [
    {
     "data": {
      "text/latex": [
       "$\\displaystyle \\epsilon \\omega \\frac{d}{d \\tau} x{\\left(\\tau \\right)} + \\omega^{2} \\left(- \\frac{K \\sin{\\left(\\alpha - x{\\left(\\tau \\right)} \\right)}}{N} - \\frac{\\left(- 2 K + N\\right) \\sin{\\left(\\alpha \\right)}}{N} + \\frac{\\left(- K + N\\right) \\sin{\\left(\\alpha + x{\\left(\\tau \\right)} \\right)}}{N}\\right) + \\frac{d^{2}}{d \\tau^{2}} x{\\left(\\tau \\right)} = 0$"
      ],
      "text/plain": [
       "Eq(epsilon*omega*Derivative(x(tau), tau) + omega**2*(-K*sin(alpha - x(tau))/N - (-2*K + N)*sin(alpha)/N + (-K + N)*sin(alpha + x(tau))/N) + Derivative(x(tau), (tau, 2)), 0)"
      ]
     },
     "execution_count": 7,
     "metadata": {},
     "output_type": "execute_result"
    }
   ],
   "source": [
    "x_f = sp.Function(\"x\")(tau)\n",
    "\n",
    "main_diff = x_f.diff().diff() + x_f.diff() * eps * omega + omega**2 * \\\n",
    "((N - K) / N * sp.sin(x_f + a) + K / N * sp.sin(x_f - a) - \\\n",
    "        (N - 2 * K) / N * sp.sin(a))\n",
    "sp.Eq(main_diff, 0)"
   ]
  },
  {
   "cell_type": "markdown",
   "id": "80f35711",
   "metadata": {},
   "source": [
    "### Replacements "
   ]
  },
  {
   "cell_type": "code",
   "execution_count": 8,
   "id": "cadd6adb",
   "metadata": {},
   "outputs": [],
   "source": [
    "x = [sp.symbols(f'x{i}') for i in range(n + 1)]\n",
    "w = [sp.symbols(f'omega{i}') for i in range(n + 1)]"
   ]
  },
  {
   "cell_type": "code",
   "execution_count": 9,
   "id": "bf1e8579",
   "metadata": {},
   "outputs": [],
   "source": [
    "x_replacements = {x[0]: 0,\n",
    "                  x[1]: 0,\n",
    "                  x[2]: w[1] * (-1 + sp.cos(tau) + \\\n",
    "                        w[1] * sp.cos(a) * sp.sin(tau)) }\n",
    "\n",
    "w_replacements = {w[0]: 0,\n",
    "                  w[1]:  N / (N - 2 * K) / sp.sin(a),\n",
    "                  w[2]: 0 }"
   ]
  },
  {
   "cell_type": "code",
   "execution_count": 10,
   "id": "de72c744",
   "metadata": {},
   "outputs": [
    {
     "name": "stdout",
     "output_type": "stream",
     "text": [
      "x0: 0\n",
      "x1: 0\n",
      "x2: omega1*(omega1*sin(tau)*cos(alpha) + cos(tau) - 1)\n",
      "**********************************************************************\n",
      "omega0: 0\n",
      "omega1: N/((-2*K + N)*sin(alpha))\n",
      "omega2: 0\n"
     ]
    }
   ],
   "source": [
    "print_dict(x_replacements)\n",
    "print(\"*\" * 70)\n",
    "print_dict(w_replacements)"
   ]
  },
  {
   "cell_type": "markdown",
   "id": "87e8c677",
   "metadata": {},
   "source": [
    "### After replacements "
   ]
  },
  {
   "cell_type": "code",
   "execution_count": 11,
   "id": "d04831ee",
   "metadata": {},
   "outputs": [
    {
     "data": {
      "text/latex": [
       "$\\displaystyle \\frac{N \\epsilon^{2} \\left(\\frac{N \\sin{\\left(\\tau \\right)} \\cos{\\left(\\alpha \\right)}}{\\left(- 2 K + N\\right) \\sin{\\left(\\alpha \\right)}} + \\cos{\\left(\\tau \\right)} - 1\\right)}{\\left(- 2 K + N\\right) \\sin{\\left(\\alpha \\right)}} + \\tau$"
      ],
      "text/plain": [
       "N*epsilon**2*(N*sin(tau)*cos(alpha)/((-2*K + N)*sin(alpha)) + cos(tau) - 1)/((-2*K + N)*sin(alpha)) + tau"
      ]
     },
     "execution_count": 11,
     "metadata": {},
     "output_type": "execute_result"
    }
   ],
   "source": [
    "xr = xs.subs(x_replacements).subs(w_replacements); xr"
   ]
  },
  {
   "cell_type": "code",
   "execution_count": 12,
   "id": "8c0238f1",
   "metadata": {},
   "outputs": [
    {
     "data": {
      "text/latex": [
       "$\\displaystyle \\frac{N \\epsilon}{\\left(- 2 K + N\\right) \\sin{\\left(\\alpha \\right)}}$"
      ],
      "text/plain": [
       "N*epsilon/((-2*K + N)*sin(alpha))"
      ]
     },
     "execution_count": 12,
     "metadata": {},
     "output_type": "execute_result"
    }
   ],
   "source": [
    "wr = ws.subs(w_replacements); wr"
   ]
  },
  {
   "cell_type": "markdown",
   "id": "07b82b2f",
   "metadata": {},
   "source": [
    "## Checks"
   ]
  },
  {
   "cell_type": "code",
   "execution_count": 13,
   "id": "83d796cb",
   "metadata": {},
   "outputs": [],
   "source": [
    "assert xr.subs(tau, 0).series(eps, 0, n + 1).removeO().simplify() == 0"
   ]
  },
  {
   "cell_type": "code",
   "execution_count": 14,
   "id": "0967a3e3",
   "metadata": {},
   "outputs": [],
   "source": [
    "assert main_diff.subs({x_f: xr, omega: wr}) \\\n",
    ".doit().series(eps, 0, n + 1).removeO().simplify() == 0"
   ]
  },
  {
   "cell_type": "code",
   "execution_count": null,
   "id": "de69dc4c",
   "metadata": {},
   "outputs": [],
   "source": []
  }
 ],
 "metadata": {
  "kernelspec": {
   "display_name": "Python 3 (ipykernel)",
   "language": "python",
   "name": "python3"
  },
  "language_info": {
   "codemirror_mode": {
    "name": "ipython",
    "version": 3
   },
   "file_extension": ".py",
   "mimetype": "text/x-python",
   "name": "python",
   "nbconvert_exporter": "python",
   "pygments_lexer": "ipython3",
   "version": "3.8.10"
  }
 },
 "nbformat": 4,
 "nbformat_minor": 5
}
