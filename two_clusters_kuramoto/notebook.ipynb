{
 "cells": [
  {
   "cell_type": "code",
   "execution_count": 257,
   "id": "1e8fefe8",
   "metadata": {},
   "outputs": [],
   "source": [
    "import sympy as sp"
   ]
  },
  {
   "cell_type": "code",
   "execution_count": 258,
   "id": "01751869",
   "metadata": {},
   "outputs": [
    {
     "data": {
      "text/plain": [
       "<function sympy.printing.latex.print_latex(expr, **settings)>"
      ]
     },
     "execution_count": 258,
     "metadata": {},
     "output_type": "execute_result"
    }
   ],
   "source": [
    "sp.print_latex"
   ]
  },
  {
   "cell_type": "markdown",
   "id": "5d559dd5",
   "metadata": {},
   "source": [
    "---"
   ]
  },
  {
   "cell_type": "code",
   "execution_count": 290,
   "id": "89bef3ff",
   "metadata": {},
   "outputs": [],
   "source": [
    "r, t = sp.symbols('r t')\n",
    "f = sp.symbols('f', cls=sp.Function)\n",
    "x = sp.symbols('x')"
   ]
  },
  {
   "cell_type": "code",
   "execution_count": 303,
   "id": "a39c19a3",
   "metadata": {},
   "outputs": [
    {
     "data": {
      "text/latex": [
       "$\\displaystyle f{\\left(x \\right)}$"
      ],
      "text/plain": [
       "f(x)"
      ]
     },
     "execution_count": 303,
     "metadata": {},
     "output_type": "execute_result"
    }
   ],
   "source": [
    "g = f(x)\n",
    "g"
   ]
  },
  {
   "cell_type": "code",
   "execution_count": 304,
   "id": "e8089a5d",
   "metadata": {},
   "outputs": [
    {
     "data": {
      "text/latex": [
       "$\\displaystyle f{\\left(x \\right)}$"
      ],
      "text/plain": [
       "f(x)"
      ]
     },
     "execution_count": 304,
     "metadata": {},
     "output_type": "execute_result"
    }
   ],
   "source": [
    "g.subs(f, 2)"
   ]
  },
  {
   "cell_type": "code",
   "execution_count": 279,
   "id": "5019cba6",
   "metadata": {},
   "outputs": [
    {
     "data": {
      "text/latex": [
       "$\\displaystyle \\cos{\\left(8 \\right)} \\left. \\frac{d}{d \\xi_{1}} f{\\left(\\xi_{1},3 \\sin{\\left(8 \\right)} \\right)} \\right|_{\\substack{ \\xi_{1}=3 \\cos{\\left(8 \\right)} }} + \\sin{\\left(8 \\right)} \\left. \\frac{d}{d \\xi_{2}} f{\\left(3 \\cos{\\left(8 \\right)},\\xi_{2} \\right)} \\right|_{\\substack{ \\xi_{2}=3 \\sin{\\left(8 \\right)} }}$"
      ],
      "text/plain": [
       "       ⎛ d                  ⎞│                     ⎛ d                  ⎞│           \n",
       "cos(8)⋅⎜───(f(ξ₁, 3⋅sin(8)))⎟│            + sin(8)⋅⎜───(f(3⋅cos(8), ξ₂))⎟│           \n",
       "       ⎝dξ₁                 ⎠│ξ₁=3⋅cos(8)          ⎝dξ₂                 ⎠│ξ₂=3⋅sin(8)"
      ]
     },
     "execution_count": 279,
     "metadata": {},
     "output_type": "execute_result"
    }
   ],
   "source": [
    "o.subs({r: 3, t: 8})"
   ]
  },
  {
   "cell_type": "markdown",
   "id": "e3693bc7",
   "metadata": {},
   "source": [
    "___"
   ]
  },
  {
   "cell_type": "markdown",
   "id": "f1aa3034",
   "metadata": {},
   "source": [
    "# Main Part"
   ]
  },
  {
   "cell_type": "code",
   "execution_count": 157,
   "id": "374be2f5",
   "metadata": {},
   "outputs": [],
   "source": [
    "X = sp.Function(\"X\"); z, t, m, N, K, a, w, tau = sp.symbols('z t m N K alpha w tau');"
   ]
  },
  {
   "cell_type": "code",
   "execution_count": 158,
   "id": "dd443e07",
   "metadata": {},
   "outputs": [],
   "source": [
    "X = X(t)"
   ]
  },
  {
   "cell_type": "code",
   "execution_count": 160,
   "id": "01e17f3a",
   "metadata": {},
   "outputs": [],
   "source": [
    "main_eq = m*X.diff(t, 2) + X.diff() - (N - 2*K) / N * sp.sin(a) \\\n",
    "+ 1 / N * ((N - K)*sp.sin(X + a) + K * sp.sin(X - a))"
   ]
  },
  {
   "cell_type": "code",
   "execution_count": 161,
   "id": "943473a5",
   "metadata": {},
   "outputs": [
    {
     "data": {
      "text/latex": [
       "$\\displaystyle m \\frac{d^{2}}{d t^{2}} X{\\left(t \\right)} + \\frac{d}{d t} X{\\left(t \\right)} - \\frac{\\left(- 2 K + N\\right) \\sin{\\left(\\alpha \\right)}}{N} + \\frac{- K \\sin{\\left(\\alpha - X{\\left(t \\right)} \\right)} + \\left(- K + N\\right) \\sin{\\left(\\alpha + X{\\left(t \\right)} \\right)}}{N}$"
      ],
      "text/plain": [
       "    2                                                                                 \n",
       "   d          d          (-2⋅K + N)⋅sin(α)   -K⋅sin(α - X(t)) + (-K + N)⋅sin(α + X(t))\n",
       "m⋅───(X(t)) + ──(X(t)) - ───────────────── + ─────────────────────────────────────────\n",
       "    2         dt                 N                               N                    \n",
       "  dt                                                                                  "
      ]
     },
     "execution_count": 161,
     "metadata": {},
     "output_type": "execute_result"
    }
   ],
   "source": [
    "main_eq"
   ]
  },
  {
   "cell_type": "code",
   "execution_count": 162,
   "id": "90d7752d",
   "metadata": {},
   "outputs": [
    {
     "data": {
      "text/latex": [
       "$\\displaystyle m \\left. \\frac{d^{2}}{d t^{2}} X{\\left(t \\right)} \\right|_{\\substack{ t=\\sqrt{m} \\tau w }} + \\left. \\frac{d}{d t} X{\\left(t \\right)} \\right|_{\\substack{ t=\\sqrt{m} \\tau w }} - \\frac{\\left(- 2 K + N\\right) \\sin{\\left(\\alpha \\right)}}{N} + \\frac{- K \\sin{\\left(\\alpha - X{\\left(\\sqrt{m} \\tau w \\right)} \\right)} + \\left(- K + N\\right) \\sin{\\left(\\alpha + X{\\left(\\sqrt{m} \\tau w \\right)} \\right)}}{N}$"
      ],
      "text/plain": [
       "  ⎛  2      ⎞│                                                                                                        \n",
       "  ⎜ d       ⎟│           ⎛d       ⎞│           (-2⋅K + N)⋅sin(α)   -K⋅sin(α - X(√m⋅τ⋅w)) + (-K + N)⋅sin(α + X(√m⋅τ⋅w))\n",
       "m⋅⎜───(X(t))⎟│         + ⎜──(X(t))⎟│         - ───────────────── + ───────────────────────────────────────────────────\n",
       "  ⎜  2      ⎟│           ⎝dt      ⎠│t=√m⋅τ⋅w           N                                    N                         \n",
       "  ⎝dt       ⎠│t=√m⋅τ⋅w                                                                                                "
      ]
     },
     "execution_count": 162,
     "metadata": {},
     "output_type": "execute_result"
    }
   ],
   "source": [
    "main_eq.subs(t, sp.sqrt(m) * w * tau)"
   ]
  },
  {
   "cell_type": "code",
   "execution_count": 124,
   "id": "c20a159e",
   "metadata": {},
   "outputs": [
    {
     "data": {
      "text/latex": [
       "$\\displaystyle m \\frac{d^{2}}{d t^{2}} X{\\left(t \\right)} + \\frac{d}{d t} X{\\left(t \\right)} - \\frac{\\left(- 2 K + N\\right) \\sin{\\left(\\alpha \\right)}}{N} + \\frac{- K \\sin{\\left(\\alpha - X{\\left(t \\right)} \\right)} + \\left(- K + N\\right) \\sin{\\left(\\alpha + X{\\left(t \\right)} \\right)}}{N} = 0$"
      ],
      "text/plain": [
       "    2                                                                                     \n",
       "   d          d          (-2⋅K + N)⋅sin(α)   -K⋅sin(α - X(t)) + (-K + N)⋅sin(α + X(t))    \n",
       "m⋅───(X(t)) + ──(X(t)) - ───────────────── + ───────────────────────────────────────── = 0\n",
       "    2         dt                 N                               N                        \n",
       "  dt                                                                                      "
      ]
     },
     "execution_count": 124,
     "metadata": {},
     "output_type": "execute_result"
    }
   ],
   "source": [
    "eq = sp.Eq(main_eq, 0)\n",
    "eq"
   ]
  },
  {
   "cell_type": "code",
   "execution_count": null,
   "id": "88384c40",
   "metadata": {},
   "outputs": [],
   "source": []
  },
  {
   "cell_type": "code",
   "execution_count": 129,
   "id": "cdab2541",
   "metadata": {},
   "outputs": [
    {
     "data": {
      "text/latex": [
       "$\\displaystyle m \\frac{d^{2}}{d t^{2}} X{\\left(t \\right)} + \\frac{d}{d t} X{\\left(t \\right)} - \\frac{\\left(- 2 K + N\\right) \\sin{\\left(\\alpha \\right)}}{N} + \\frac{- K \\sin{\\left(\\alpha - X{\\left(t \\right)} \\right)} + \\left(- K + N\\right) \\sin{\\left(\\alpha + X{\\left(t \\right)} \\right)}}{N} = 0$"
      ],
      "text/plain": [
       "    2                                                                                     \n",
       "   d          d          (-2⋅K + N)⋅sin(α)   -K⋅sin(α - X(t)) + (-K + N)⋅sin(α + X(t))    \n",
       "m⋅───(X(t)) + ──(X(t)) - ───────────────── + ───────────────────────────────────────── = 0\n",
       "    2         dt                 N                               N                        \n",
       "  dt                                                                                      "
      ]
     },
     "execution_count": 129,
     "metadata": {},
     "output_type": "execute_result"
    }
   ],
   "source": [
    "eq"
   ]
  },
  {
   "cell_type": "code",
   "execution_count": null,
   "id": "87099191",
   "metadata": {},
   "outputs": [],
   "source": []
  }
 ],
 "metadata": {
  "kernelspec": {
   "display_name": "Python 3 (ipykernel)",
   "language": "python",
   "name": "python3"
  },
  "language_info": {
   "codemirror_mode": {
    "name": "ipython",
    "version": 3
   },
   "file_extension": ".py",
   "mimetype": "text/x-python",
   "name": "python",
   "nbconvert_exporter": "python",
   "pygments_lexer": "ipython3",
   "version": "3.8.10"
  }
 },
 "nbformat": 4,
 "nbformat_minor": 5
}
